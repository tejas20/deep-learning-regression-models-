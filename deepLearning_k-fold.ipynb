{
 "cells": [
  {
   "cell_type": "markdown",
   "metadata": {},
   "source": [
    "# Deep learning regression models and k-fold validation"
   ]
  },
  {
   "cell_type": "markdown",
   "metadata": {},
   "source": [
    "### a)\tData import / pre-processing: "
   ]
  },
  {
   "cell_type": "code",
   "execution_count": 1,
   "metadata": {
    "id": "EM1l-gqvZ0cj"
   },
   "outputs": [],
   "source": [
    "import numpy as np\n",
    "import os\n",
    "from zipfile import ZipFile"
   ]
  },
  {
   "cell_type": "code",
   "execution_count": 2,
   "metadata": {
    "colab": {
     "base_uri": "https://localhost:8080/"
    },
    "id": "oFNIGvl7Z21G",
    "outputId": "bfdc8a99-5438-46cd-f35a-ee5a890762f9"
   },
   "outputs": [],
   "source": [
    "with ZipFile(\"soybean_images.zip\",\"r\") as zip_ref:\n",
    "    zip_ref.extractall()"
   ]
  },
  {
   "cell_type": "code",
   "execution_count": 3,
   "metadata": {
    "id": "jRJhA27wZ4yl"
   },
   "outputs": [],
   "source": [
    "sample_dir = '/soybean_images/'"
   ]
  },
  {
   "cell_type": "code",
   "execution_count": 4,
   "metadata": {
    "colab": {
     "base_uri": "https://localhost:8080/"
    },
    "id": "YIOtfs86Z6wq",
    "outputId": "a1109789-d082-4035-b68a-dc69792ad3e5"
   },
   "outputs": [
    {
     "name": "stdout",
     "output_type": "stream",
     "text": [
      "(22986, 9, 32, 32)\n",
      "(22986,)\n"
     ]
    }
   ],
   "source": [
    "images = []\n",
    "labels = []\n",
    "for f in os.listdir(sample_dir):\n",
    "    sample = np.load(sample_dir + str(f))\n",
    "\n",
    "    images.append(sample['image'])\n",
    "    labels.append(sample['y'])\n",
    "\n",
    "print(np.asarray(images).shape)\n",
    "print(np.asarray(labels).shape)"
   ]
  },
  {
   "cell_type": "code",
   "execution_count": 5,
   "metadata": {
    "id": "R11i3ajjaDx4"
   },
   "outputs": [],
   "source": [
    "# storing the data as array in X (input features) and y (average yield) variables\n",
    "X = np.asarray(images)\n",
    "y = np.asarray(labels)"
   ]
  },
  {
   "cell_type": "code",
   "execution_count": 6,
   "metadata": {
    "colab": {
     "base_uri": "https://localhost:8080/"
    },
    "id": "cag_o10b2b7Z",
    "outputId": "c4c699b0-0db4-4472-fb3e-e38f6152a18e"
   },
   "outputs": [
    {
     "data": {
      "text/plain": [
       "(((13791, 9, 32, 32), (13791,)),\n",
       " ((4597, 9, 32, 32), (4597,)),\n",
       " ((4598, 9, 32, 32), (4598,)))"
      ]
     },
     "execution_count": 6,
     "metadata": {},
     "output_type": "execute_result"
    }
   ],
   "source": [
    "from sklearn.model_selection import train_test_split\n",
    "X_train, X_test, y_train, y_test = train_test_split(X, y, test_size = 0.2, random_state=1)\n",
    "X_train, X_val, y_train, y_val = train_test_split(X_train, y_train, test_size = 0.25, random_state=1)\n",
    "(X_train.shape, y_train.shape), (X_val.shape, y_val.shape), (X_test.shape, y_test.shape)"
   ]
  },
  {
   "cell_type": "code",
   "execution_count": 7,
   "metadata": {},
   "outputs": [],
   "source": [
    "# The shape of each file is (9, 32, 32) which we need to reshape into (32, 32, 9)\n",
    "# as tensorflow expects the input for CNN in \n",
    "# (<number of images>, <img x_dim>, <img y_dim>, <number of channels>) \n",
    "x_train_reshaped = X_train.reshape(X_train.shape[0], 32, 32, 9)\n",
    "x_test_reshaped = X_test.reshape(X_test.shape[0], 32, 32, 9)\n",
    "x_val_reshaped = X_val.reshape(X_val.shape[0], 32, 32, 9)\n",
    "input_shape = (32, 32, 9)"
   ]
  },
  {
   "cell_type": "markdown",
   "metadata": {},
   "source": [
    "# b) Training and Justification"
   ]
  },
  {
   "cell_type": "markdown",
   "metadata": {},
   "source": [
    "Importing necessary libraries"
   ]
  },
  {
   "cell_type": "code",
   "execution_count": 8,
   "metadata": {
    "id": "yQ1enLjoa_3J"
   },
   "outputs": [],
   "source": [
    "from numpy import sqrt\n",
    "import tensorflow as tf\n",
    "from tensorflow.keras import Sequential, callbacks, optimizers, backend\n",
    "from tensorflow.keras.layers import Dense, Flatten"
   ]
  },
  {
   "cell_type": "code",
   "execution_count": 9,
   "metadata": {},
   "outputs": [],
   "source": [
    "!pip install -q -U keras-tuner\n",
    "import keras_tuner as kt"
   ]
  },
  {
   "cell_type": "code",
   "execution_count": 10,
   "metadata": {
    "colab": {
     "base_uri": "https://localhost:8080/"
    },
    "id": "s16QY_3gbFxh",
    "outputId": "18ece7c6-61e0-4d73-900c-1e9d54baf52b"
   },
   "outputs": [
    {
     "data": {
      "text/plain": [
       "9"
      ]
     },
     "execution_count": 10,
     "metadata": {},
     "output_type": "execute_result"
    }
   ],
   "source": [
    "# determine the number of input features\n",
    "n_features = x_train_reshaped.shape[3]\n",
    "n_features"
   ]
  },
  {
   "cell_type": "markdown",
   "metadata": {},
   "source": [
    "# MLP"
   ]
  },
  {
   "cell_type": "code",
   "execution_count": 11,
   "metadata": {},
   "outputs": [],
   "source": [
    "def mlp_model(hp):\n",
    "    mlp_model = Sequential()\n",
    "    mlp_model.add(Flatten())\n",
    "    # Tune the number of units in the first Dense layer\n",
    "    # Choose an optimal value between 32-512\n",
    "    hp_units = hp.Int('units', min_value=32, max_value=512, step=32)\n",
    "    mlp_model.add(Dense(units=hp_units, activation='relu', kernel_initializer='he_normal', input_shape=(32, 32, 9)))\n",
    "    mlp_model.add(Dense(10, activation='relu', kernel_initializer='he_normal'))\n",
    "    mlp_model.add(Dense(1))\n",
    "    \n",
    "    # Tune the learning rate for the optimizer\n",
    "    # Choose an optimal value from 0.01, 0.001, or 0.0001\n",
    "    hp_learning_rate = hp.Choice('learning_rate', values=[1e-2, 1e-3, 1e-4])\n",
    "    mlp_model.compile(optimizer=optimizers.Adam(learning_rate=hp_learning_rate), loss='mse')\n",
    "    return mlp_model"
   ]
  },
  {
   "cell_type": "code",
   "execution_count": 12,
   "metadata": {
    "id": "Aom4zMP7jLzo"
   },
   "outputs": [],
   "source": [
    "early_stopping = callbacks.EarlyStopping(monitor='loss', patience=5)"
   ]
  },
  {
   "cell_type": "code",
   "execution_count": 13,
   "metadata": {},
   "outputs": [
    {
     "name": "stdout",
     "output_type": "stream",
     "text": [
      "INFO:tensorflow:Reloading Oracle from existing project my_dir\\mlp_model\\oracle.json\n",
      "INFO:tensorflow:Reloading Tuner from my_dir\\mlp_model\\tuner0.json\n"
     ]
    }
   ],
   "source": [
    "tuner = kt.Hyperband(mlp_model,\n",
    "                     objective=\"val_loss\",\n",
    "                     max_epochs=10,\n",
    "                     factor=3,\n",
    "                     directory='my_dir',\n",
    "                     project_name='mlp_model')"
   ]
  },
  {
   "cell_type": "code",
   "execution_count": 14,
   "metadata": {},
   "outputs": [
    {
     "name": "stdout",
     "output_type": "stream",
     "text": [
      "INFO:tensorflow:Oracle triggered exit\n",
      "\n",
      "The hyperparameter search is complete. The optimal number of units in the first densely-connected\n",
      "layer is 512 and the optimal learning rate for the optimizer\n",
      "is 0.01.\n",
      "\n"
     ]
    }
   ],
   "source": [
    "tuner.search(x_train_reshaped, y_train, epochs=50, validation_data=(x_val_reshaped, y_val), callbacks=[early_stopping])\n",
    "\n",
    "# Get the optimal hyperparameters\n",
    "best_hps=tuner.get_best_hyperparameters(num_trials=1)[0]\n",
    "\n",
    "print(f\"\"\"\n",
    "The hyperparameter search is complete. The optimal number of units in the first densely-connected\n",
    "layer is {best_hps.get('units')} and the optimal learning rate for the optimizer\n",
    "is {best_hps.get('learning_rate')}.\n",
    "\"\"\")"
   ]
  },
  {
   "cell_type": "code",
   "execution_count": 15,
   "metadata": {},
   "outputs": [
    {
     "name": "stdout",
     "output_type": "stream",
     "text": [
      "Epoch 1/50\n",
      "431/431 [==============================] - 12s 26ms/step - loss: 120.5496 - val_loss: 56.7445\n",
      "Epoch 2/50\n",
      "431/431 [==============================] - 12s 28ms/step - loss: 46.8372 - val_loss: 39.3802\n",
      "Epoch 3/50\n",
      "431/431 [==============================] - 11s 25ms/step - loss: 36.6783 - val_loss: 41.9665\n",
      "Epoch 4/50\n",
      "431/431 [==============================] - 10s 24ms/step - loss: 29.1207 - val_loss: 30.9087\n",
      "Epoch 5/50\n",
      "431/431 [==============================] - 10s 24ms/step - loss: 24.3938 - val_loss: 30.9036\n",
      "Epoch 6/50\n",
      "431/431 [==============================] - 11s 26ms/step - loss: 21.8587 - val_loss: 30.9458\n",
      "Epoch 7/50\n",
      "431/431 [==============================] - 11s 26ms/step - loss: 21.0735 - val_loss: 30.8274\n",
      "Epoch 8/50\n",
      "431/431 [==============================] - 12s 28ms/step - loss: 19.7598 - val_loss: 31.7019\n",
      "Epoch 9/50\n",
      "431/431 [==============================] - 10s 24ms/step - loss: 18.4019 - val_loss: 31.0660\n",
      "Epoch 10/50\n",
      "431/431 [==============================] - 10s 22ms/step - loss: 18.6768 - val_loss: 30.0733\n",
      "Epoch 11/50\n",
      "431/431 [==============================] - 10s 23ms/step - loss: 16.2767 - val_loss: 30.0836\n",
      "Epoch 12/50\n",
      "431/431 [==============================] - 10s 22ms/step - loss: 17.8867 - val_loss: 29.7667\n",
      "Epoch 13/50\n",
      "431/431 [==============================] - 10s 22ms/step - loss: 15.0288 - val_loss: 34.2681\n",
      "Epoch 14/50\n",
      "431/431 [==============================] - 10s 24ms/step - loss: 15.2667 - val_loss: 30.4876\n",
      "Epoch 15/50\n",
      "431/431 [==============================] - 10s 24ms/step - loss: 14.7639 - val_loss: 31.3065\n",
      "Epoch 16/50\n",
      "431/431 [==============================] - 10s 24ms/step - loss: 13.3471 - val_loss: 29.8068\n",
      "Epoch 17/50\n",
      "431/431 [==============================] - 10s 24ms/step - loss: 12.4740 - val_loss: 32.5467\n",
      "Epoch 18/50\n",
      "431/431 [==============================] - 10s 23ms/step - loss: 11.9449 - val_loss: 30.3142\n",
      "Epoch 19/50\n",
      "431/431 [==============================] - 10s 24ms/step - loss: 11.9785 - val_loss: 31.3119\n",
      "Epoch 20/50\n",
      "431/431 [==============================] - 11s 26ms/step - loss: 10.7975 - val_loss: 31.7589\n",
      "Epoch 21/50\n",
      "431/431 [==============================] - 11s 27ms/step - loss: 11.5610 - val_loss: 36.0278\n",
      "Epoch 22/50\n",
      "431/431 [==============================] - 11s 25ms/step - loss: 12.0261 - val_loss: 34.7813\n",
      "Epoch 23/50\n",
      "431/431 [==============================] - 10s 24ms/step - loss: 10.2403 - val_loss: 33.1097\n",
      "Epoch 24/50\n",
      "431/431 [==============================] - 11s 25ms/step - loss: 11.2694 - val_loss: 31.3077\n",
      "Epoch 25/50\n",
      "431/431 [==============================] - 10s 23ms/step - loss: 10.2144 - val_loss: 35.6154\n",
      "Epoch 26/50\n",
      "431/431 [==============================] - 10s 24ms/step - loss: 10.3826 - val_loss: 31.7404\n",
      "Epoch 27/50\n",
      "431/431 [==============================] - 10s 24ms/step - loss: 9.2722 - val_loss: 31.1926\n",
      "Epoch 28/50\n",
      "431/431 [==============================] - 11s 25ms/step - loss: 9.1289 - val_loss: 34.4858\n",
      "Epoch 29/50\n",
      "431/431 [==============================] - 10s 22ms/step - loss: 9.3128 - val_loss: 32.6240\n",
      "Epoch 30/50\n",
      "431/431 [==============================] - 10s 24ms/step - loss: 8.0744 - val_loss: 32.5140\n",
      "Epoch 31/50\n",
      "431/431 [==============================] - 10s 24ms/step - loss: 7.9140 - val_loss: 32.6198\n",
      "Epoch 32/50\n",
      "431/431 [==============================] - 10s 22ms/step - loss: 7.9211 - val_loss: 32.7712\n",
      "Epoch 33/50\n",
      "431/431 [==============================] - 11s 24ms/step - loss: 8.2770 - val_loss: 32.6627\n",
      "Epoch 34/50\n",
      "431/431 [==============================] - 11s 25ms/step - loss: 8.2180 - val_loss: 33.5371\n",
      "Epoch 35/50\n",
      "431/431 [==============================] - 10s 24ms/step - loss: 7.8488 - val_loss: 33.1177\n",
      "Epoch 36/50\n",
      "431/431 [==============================] - 10s 24ms/step - loss: 7.4159 - val_loss: 34.8652\n",
      "Epoch 37/50\n",
      "431/431 [==============================] - 10s 23ms/step - loss: 7.5098 - val_loss: 34.0228\n",
      "Epoch 38/50\n",
      "431/431 [==============================] - 10s 24ms/step - loss: 7.0584 - val_loss: 33.8142\n",
      "Epoch 39/50\n",
      "431/431 [==============================] - 10s 24ms/step - loss: 6.7187 - val_loss: 34.3267\n",
      "Epoch 40/50\n",
      "431/431 [==============================] - 10s 24ms/step - loss: 6.5288 - val_loss: 35.6622\n",
      "Epoch 41/50\n",
      "431/431 [==============================] - 10s 23ms/step - loss: 7.1602 - val_loss: 34.6243\n",
      "Epoch 42/50\n",
      "431/431 [==============================] - 10s 24ms/step - loss: 6.5287 - val_loss: 34.7706\n",
      "Epoch 43/50\n",
      "431/431 [==============================] - 10s 23ms/step - loss: 6.5780 - val_loss: 33.7260\n",
      "Epoch 44/50\n",
      "431/431 [==============================] - 11s 25ms/step - loss: 6.1691 - val_loss: 34.3720\n",
      "Epoch 45/50\n",
      "431/431 [==============================] - 11s 25ms/step - loss: 6.2209 - val_loss: 34.3334\n",
      "Epoch 46/50\n",
      "431/431 [==============================] - 11s 25ms/step - loss: 6.1602 - val_loss: 34.1630\n",
      "Epoch 47/50\n",
      "431/431 [==============================] - 10s 24ms/step - loss: 5.8140 - val_loss: 35.3517\n",
      "Epoch 48/50\n",
      "431/431 [==============================] - 10s 23ms/step - loss: 5.8633 - val_loss: 34.4691\n",
      "Epoch 49/50\n",
      "431/431 [==============================] - 10s 24ms/step - loss: 5.5056 - val_loss: 34.3631\n",
      "Epoch 50/50\n",
      "431/431 [==============================] - 11s 26ms/step - loss: 5.3608 - val_loss: 36.2119\n",
      "Best epoch: 12\n"
     ]
    }
   ],
   "source": [
    "# Build the model with the optimal hyperparameters and train it on the data for 50 epochs\n",
    "model = tuner.hypermodel.build(best_hps)\n",
    "history = model.fit(x_train_reshaped, y_train, epochs=50, validation_data=(x_val_reshaped, y_val))\n",
    "\n",
    "val_loss_per_epoch = history.history['val_loss']\n",
    "best_epoch = val_loss_per_epoch.index(min(val_loss_per_epoch)) + 1\n",
    "print('Best epoch: %d' % (best_epoch,))"
   ]
  },
  {
   "cell_type": "code",
   "execution_count": 16,
   "metadata": {},
   "outputs": [
    {
     "name": "stdout",
     "output_type": "stream",
     "text": [
      "Epoch 1/12\n",
      "431/431 [==============================] - 12s 25ms/step - loss: 108.3917 - val_loss: 41.7779\n",
      "Epoch 2/12\n",
      "431/431 [==============================] - 10s 23ms/step - loss: 38.8634 - val_loss: 33.8858\n",
      "Epoch 3/12\n",
      "431/431 [==============================] - 11s 25ms/step - loss: 31.0556 - val_loss: 36.7141\n",
      "Epoch 4/12\n",
      "431/431 [==============================] - 10s 24ms/step - loss: 28.9608 - val_loss: 33.6706\n",
      "Epoch 5/12\n",
      "431/431 [==============================] - 10s 24ms/step - loss: 25.3719 - val_loss: 31.1768\n",
      "Epoch 6/12\n",
      "431/431 [==============================] - 10s 24ms/step - loss: 23.6552 - val_loss: 32.7418\n",
      "Epoch 7/12\n",
      "431/431 [==============================] - 10s 22ms/step - loss: 22.4349 - val_loss: 32.8141\n",
      "Epoch 8/12\n",
      "431/431 [==============================] - 10s 23ms/step - loss: 21.4991 - val_loss: 30.7551\n",
      "Epoch 9/12\n",
      "431/431 [==============================] - 10s 23ms/step - loss: 20.0688 - val_loss: 33.2639\n",
      "Epoch 10/12\n",
      "431/431 [==============================] - 9s 22ms/step - loss: 19.0790 - val_loss: 31.3167\n",
      "Epoch 11/12\n",
      "431/431 [==============================] - 9s 22ms/step - loss: 17.2570 - val_loss: 31.2985\n",
      "Epoch 12/12\n",
      "431/431 [==============================] - 10s 22ms/step - loss: 18.1784 - val_loss: 31.2010\n"
     ]
    },
    {
     "data": {
      "text/plain": [
       "<tensorflow.python.keras.callbacks.History at 0x130c6efaca0>"
      ]
     },
     "execution_count": 16,
     "metadata": {},
     "output_type": "execute_result"
    }
   ],
   "source": [
    "tuned_mlp_model = tuner.hypermodel.build(best_hps)\n",
    "\n",
    "# Retrain the model\n",
    "tuned_mlp_model.fit(x_train_reshaped, y_train, epochs=best_epoch, validation_data=(x_val_reshaped, y_val))"
   ]
  },
  {
   "cell_type": "code",
   "execution_count": 17,
   "metadata": {
    "id": "UCWw0JSajcre"
   },
   "outputs": [],
   "source": [
    "# initial_learning_rate = 0.01\n",
    "# lr_schedule = optimizers.schedules.ExponentialDecay(\n",
    "#     initial_learning_rate,\n",
    "#     decay_steps=100000,\n",
    "#     decay_rate=0.96,\n",
    "#     staircase=True)"
   ]
  },
  {
   "cell_type": "code",
   "execution_count": 18,
   "metadata": {
    "id": "ccEqCpxPbSMn"
   },
   "outputs": [],
   "source": [
    "# compile the model\n",
    "# mlp_model.compile(optimizer=optimizers.Adam(learning_rate=lr_schedule), loss='mse')"
   ]
  },
  {
   "cell_type": "code",
   "execution_count": 19,
   "metadata": {
    "colab": {
     "base_uri": "https://localhost:8080/"
    },
    "id": "SVuUtxvxqVQ9",
    "outputId": "f53a63f5-0234-467c-d4e3-2d89f8012d1f"
   },
   "outputs": [
    {
     "name": "stdout",
     "output_type": "stream",
     "text": [
      "Model: \"sequential_2\"\n",
      "_________________________________________________________________\n",
      "Layer (type)                 Output Shape              Param #   \n",
      "=================================================================\n",
      "flatten_2 (Flatten)          (None, 9216)              0         \n",
      "_________________________________________________________________\n",
      "dense_6 (Dense)              (None, 512)               4719104   \n",
      "_________________________________________________________________\n",
      "dense_7 (Dense)              (None, 10)                5130      \n",
      "_________________________________________________________________\n",
      "dense_8 (Dense)              (None, 1)                 11        \n",
      "=================================================================\n",
      "Total params: 4,724,245\n",
      "Trainable params: 4,724,245\n",
      "Non-trainable params: 0\n",
      "_________________________________________________________________\n"
     ]
    }
   ],
   "source": [
    "tuned_mlp_model.summary()"
   ]
  },
  {
   "cell_type": "code",
   "execution_count": 20,
   "metadata": {
    "colab": {
     "base_uri": "https://localhost:8080/"
    },
    "id": "HK8e4JeDgpM_",
    "outputId": "33c1a52b-83b8-4757-de93-0e0ad98a4df2"
   },
   "outputs": [
    {
     "data": {
      "text/plain": [
       "array([[45.18808 ],\n",
       "       [31.061745],\n",
       "       [48.5673  ],\n",
       "       ...,\n",
       "       [52.0434  ],\n",
       "       [52.666664],\n",
       "       [30.410448]], dtype=float32)"
      ]
     },
     "execution_count": 20,
     "metadata": {},
     "output_type": "execute_result"
    }
   ],
   "source": [
    "predictions_val  = tuned_mlp_model.predict(x_val_reshaped)\n",
    "predictions_val"
   ]
  },
  {
   "cell_type": "markdown",
   "metadata": {},
   "source": [
    "### Evaluating the model"
   ]
  },
  {
   "cell_type": "code",
   "execution_count": 21,
   "metadata": {
    "colab": {
     "base_uri": "https://localhost:8080/"
    },
    "id": "E3r9zhskhDEW",
    "outputId": "dbab7fb5-837e-46cb-f76a-6ad5580c105d"
   },
   "outputs": [
    {
     "name": "stdout",
     "output_type": "stream",
     "text": [
      "MSE: 31.201, RMSE: 5.586\n"
     ]
    }
   ],
   "source": [
    "error = tuned_mlp_model.evaluate(x_val_reshaped, y_val, verbose=0)\n",
    "print('MSE: %.3f, RMSE: %.3f' % (error, sqrt(error)))"
   ]
  },
  {
   "cell_type": "code",
   "execution_count": 22,
   "metadata": {
    "colab": {
     "base_uri": "https://localhost:8080/"
    },
    "id": "jf8YizzwfyaB",
    "outputId": "ba1f48a8-88d0-495d-9f09-15a1c5e78e84"
   },
   "outputs": [
    {
     "data": {
      "text/plain": [
       "0.6489151735200394"
      ]
     },
     "execution_count": 22,
     "metadata": {},
     "output_type": "execute_result"
    }
   ],
   "source": [
    "from sklearn.metrics import r2_score\n",
    "r2_score(predictions_val, y_val)"
   ]
  },
  {
   "cell_type": "code",
   "execution_count": 23,
   "metadata": {
    "id": "WlARvqNEjTOT"
   },
   "outputs": [],
   "source": [
    "import matplotlib.pyplot as plt"
   ]
  },
  {
   "cell_type": "code",
   "execution_count": 24,
   "metadata": {
    "colab": {
     "base_uri": "https://localhost:8080/",
     "height": 592
    },
    "id": "U9SbGU0qjSbJ",
    "outputId": "e9111169-41f8-4e43-c71f-6542c2fa99db"
   },
   "outputs": [
    {
     "data": {
      "image/png": "[encoded data removed]",
      "text/plain": [
       "<Figure size 720x720 with 1 Axes>"
      ]
     },
     "metadata": {
      "needs_background": "light"
     },
     "output_type": "display_data"
    }
   ],
   "source": [
    "fig = plt.figure(figsize=(10, 10))\n",
    "x_ax = range(len(predictions_val[:250]))\n",
    "plt.scatter(x_ax, y_val[:250], s=5, color=\"blue\", label=\"original\")\n",
    "plt.plot(x_ax, predictions_val[:250], lw=0.8, color=\"red\", label=\"predicted\")\n",
    "plt.legend()\n",
    "plt.show()"
   ]
  },
  {
   "cell_type": "markdown",
   "metadata": {
    "id": "Bju5ZXuBnids"
   },
   "source": [
    "# CNN"
   ]
  },
  {
   "cell_type": "code",
   "execution_count": 25,
   "metadata": {
    "id": "BbL8eAQDsgHP"
   },
   "outputs": [],
   "source": [
    "from tensorflow.keras.layers import Conv2D, MaxPool2D"
   ]
  },
  {
   "cell_type": "code",
   "execution_count": 26,
   "metadata": {
    "colab": {
     "base_uri": "https://localhost:8080/"
    },
    "id": "Qzhu4e9uk4Ph",
    "outputId": "3f207c38-67b8-49e2-e986-03aa2fb869e4"
   },
   "outputs": [
    {
     "data": {
      "text/plain": [
       "(32, 32, 9)"
      ]
     },
     "execution_count": 26,
     "metadata": {},
     "output_type": "execute_result"
    }
   ],
   "source": [
    "# determine the shape of the input images\n",
    "in_shape = x_train_reshaped.shape[1:]\n",
    "in_shape"
   ]
  },
  {
   "cell_type": "code",
   "execution_count": 27,
   "metadata": {},
   "outputs": [],
   "source": [
    "def cnn_model(hp):\n",
    "    cnn_model = Sequential()\n",
    "    cnn_model.add(Conv2D(\n",
    "        #adding filter \n",
    "        filters=hp.Int('conv_1_filter', min_value=32, max_value=256, step=32),\n",
    "        # adding filter size or kernel size\n",
    "        kernel_size=(3,3),\n",
    "        activation='relu', \n",
    "        kernel_initializer='he_uniform', \n",
    "        input_shape=(32, 32, 9)))\n",
    "    cnn_model.add(MaxPool2D((2, 2)))\n",
    "    cnn_model.add(Conv2D(               \n",
    "        filters=64,\n",
    "        kernel_size=(3,3),\n",
    "        activation='relu'))\n",
    "    cnn_model.add(MaxPool2D((2, 2)))\n",
    "    cnn_model.add(Flatten())\n",
    "    cnn_model.add(Dense(32, activation='relu'))\n",
    "    cnn_model.add(Dense(1))\n",
    "   \n",
    "    # Tune the learning rate for the optimizer\n",
    "    # Choose an optimal value from 0.01, 0.001, or 0.0001\n",
    "    hp_learning_rate = hp.Choice('learning_rate', values=[1e-2, 1e-3, 1e-4])\n",
    "    cnn_model.compile(optimizer=optimizers.Adam(learning_rate=hp_learning_rate), loss='mse')\n",
    "    return cnn_model"
   ]
  },
  {
   "cell_type": "code",
   "execution_count": 28,
   "metadata": {
    "id": "980dMGQRif-s"
   },
   "outputs": [],
   "source": [
    "early_stopping = callbacks.EarlyStopping(monitor='loss', patience=5)"
   ]
  },
  {
   "cell_type": "code",
   "execution_count": 29,
   "metadata": {},
   "outputs": [
    {
     "name": "stdout",
     "output_type": "stream",
     "text": [
      "INFO:tensorflow:Reloading Oracle from existing project my_dir\\cnn_model\\oracle.json\n",
      "INFO:tensorflow:Reloading Tuner from my_dir\\cnn_model\\tuner0.json\n"
     ]
    }
   ],
   "source": [
    "# initialising the keras tuner\n",
    "tuner = kt.Hyperband(cnn_model,\n",
    "                     objective=\"val_loss\",\n",
    "                     max_epochs=10,\n",
    "                     factor=3,\n",
    "                     directory='my_dir',\n",
    "                     project_name='cnn_model')"
   ]
  },
  {
   "cell_type": "code",
   "execution_count": 30,
   "metadata": {},
   "outputs": [
    {
     "name": "stdout",
     "output_type": "stream",
     "text": [
      "INFO:tensorflow:Oracle triggered exit\n",
      "\n",
      "The hyperparameter search is complete. The optimal number of units in the first CNN\n",
      "layer is 256 and the optimal learning rate for the optimizer\n",
      "is 0.01.\n",
      "\n"
     ]
    }
   ],
   "source": [
    "tuner.search(x_train_reshaped, y_train, epochs=50, validation_data=(x_val_reshaped, y_val), callbacks=[early_stopping])\n",
    "\n",
    "# Get the optimal hyperparameters\n",
    "best_hps=tuner.get_best_hyperparameters(num_trials=1)[0]\n",
    "\n",
    "print(f\"\"\"\n",
    "The hyperparameter search is complete. The optimal number of units in the first CNN\n",
    "layer is {best_hps.get('conv_1_filter')} and the optimal learning rate for the optimizer\n",
    "is {best_hps.get('learning_rate')}.\n",
    "\"\"\")"
   ]
  },
  {
   "cell_type": "code",
   "execution_count": 31,
   "metadata": {},
   "outputs": [
    {
     "name": "stdout",
     "output_type": "stream",
     "text": [
      "Epoch 1/50\n",
      "431/431 [==============================] - 47s 108ms/step - loss: 570.0696 - val_loss: 60.9409\n",
      "Epoch 2/50\n",
      "431/431 [==============================] - 48s 112ms/step - loss: 50.5969 - val_loss: 53.1113\n",
      "Epoch 3/50\n",
      "431/431 [==============================] - 48s 110ms/step - loss: 42.9675 - val_loss: 37.1470\n",
      "Epoch 4/50\n",
      "431/431 [==============================] - 49s 114ms/step - loss: 38.3633 - val_loss: 42.1189\n",
      "Epoch 5/50\n",
      "431/431 [==============================] - 48s 111ms/step - loss: 34.6304 - val_loss: 34.4997\n",
      "Epoch 6/50\n",
      "431/431 [==============================] - 47s 110ms/step - loss: 31.4923 - val_loss: 36.6599\n",
      "Epoch 7/50\n",
      "431/431 [==============================] - 47s 108ms/step - loss: 31.7193 - val_loss: 33.8029\n",
      "Epoch 8/50\n",
      "431/431 [==============================] - 45s 104ms/step - loss: 31.0740 - val_loss: 31.5505\n",
      "Epoch 9/50\n",
      "431/431 [==============================] - 49s 113ms/step - loss: 28.6850 - val_loss: 32.8060\n",
      "Epoch 10/50\n",
      "431/431 [==============================] - 44s 102ms/step - loss: 25.0015 - val_loss: 30.4163\n",
      "Epoch 11/50\n",
      "431/431 [==============================] - 43s 100ms/step - loss: 23.8973 - val_loss: 30.4970\n",
      "Epoch 12/50\n",
      "431/431 [==============================] - 45s 104ms/step - loss: 24.7785 - val_loss: 30.8976\n",
      "Epoch 13/50\n",
      "431/431 [==============================] - 49s 114ms/step - loss: 21.6266 - val_loss: 33.6531\n",
      "Epoch 14/50\n",
      "431/431 [==============================] - 47s 109ms/step - loss: 23.0883 - val_loss: 43.6834\n",
      "Epoch 15/50\n",
      "431/431 [==============================] - 49s 113ms/step - loss: 20.6948 - val_loss: 33.2237\n",
      "Epoch 16/50\n",
      "431/431 [==============================] - 49s 114ms/step - loss: 21.2514 - val_loss: 33.7956\n",
      "Epoch 17/50\n",
      "431/431 [==============================] - 46s 107ms/step - loss: 19.7901 - val_loss: 34.2758\n",
      "Epoch 18/50\n",
      "431/431 [==============================] - 46s 106ms/step - loss: 19.2993 - val_loss: 31.7917\n",
      "Epoch 19/50\n",
      "431/431 [==============================] - 46s 107ms/step - loss: 18.2471 - val_loss: 30.4085\n",
      "Epoch 20/50\n",
      "431/431 [==============================] - 46s 106ms/step - loss: 18.3028 - val_loss: 31.2325\n",
      "Epoch 21/50\n",
      "431/431 [==============================] - 46s 107ms/step - loss: 17.1457 - val_loss: 29.6962\n",
      "Epoch 22/50\n",
      "431/431 [==============================] - 46s 106ms/step - loss: 18.1211 - val_loss: 29.9784\n",
      "Epoch 23/50\n",
      "431/431 [==============================] - 45s 106ms/step - loss: 16.2218 - val_loss: 30.5240\n",
      "Epoch 24/50\n",
      "431/431 [==============================] - 46s 106ms/step - loss: 14.9825 - val_loss: 31.1871\n",
      "Epoch 25/50\n",
      "431/431 [==============================] - 45s 106ms/step - loss: 14.3838 - val_loss: 31.1067\n",
      "Epoch 26/50\n",
      "431/431 [==============================] - 46s 106ms/step - loss: 15.4337 - val_loss: 33.4675\n",
      "Epoch 27/50\n",
      "431/431 [==============================] - 46s 106ms/step - loss: 13.8653 - val_loss: 31.5102\n",
      "Epoch 28/50\n",
      "431/431 [==============================] - 45s 105ms/step - loss: 14.7108 - val_loss: 30.4656\n",
      "Epoch 29/50\n",
      "431/431 [==============================] - 46s 107ms/step - loss: 13.5251 - val_loss: 32.2896\n",
      "Epoch 30/50\n",
      "431/431 [==============================] - 46s 107ms/step - loss: 13.3507 - val_loss: 29.5246\n",
      "Epoch 31/50\n",
      "431/431 [==============================] - 46s 106ms/step - loss: 12.9021 - val_loss: 39.5219\n",
      "Epoch 32/50\n",
      "431/431 [==============================] - 46s 107ms/step - loss: 12.0555 - val_loss: 33.0034\n",
      "Epoch 33/50\n",
      "431/431 [==============================] - 46s 107ms/step - loss: 11.3938 - val_loss: 30.4792\n",
      "Epoch 34/50\n",
      "431/431 [==============================] - 46s 107ms/step - loss: 11.0355 - val_loss: 31.3840\n",
      "Epoch 35/50\n",
      "431/431 [==============================] - 46s 107ms/step - loss: 11.7076 - val_loss: 31.7121\n",
      "Epoch 36/50\n",
      "431/431 [==============================] - 46s 107ms/step - loss: 10.9598 - val_loss: 30.4852\n",
      "Epoch 37/50\n",
      "431/431 [==============================] - 46s 107ms/step - loss: 10.8579 - val_loss: 30.4451\n",
      "Epoch 38/50\n",
      "431/431 [==============================] - 46s 107ms/step - loss: 11.4956 - val_loss: 31.6135\n",
      "Epoch 39/50\n",
      "431/431 [==============================] - 47s 108ms/step - loss: 10.4629 - val_loss: 30.7359\n",
      "Epoch 40/50\n",
      "431/431 [==============================] - 46s 106ms/step - loss: 9.7653 - val_loss: 31.3302\n",
      "Epoch 41/50\n",
      "431/431 [==============================] - 46s 106ms/step - loss: 10.0859 - val_loss: 31.7712\n",
      "Epoch 42/50\n",
      "431/431 [==============================] - 46s 107ms/step - loss: 9.7263 - val_loss: 31.3855\n",
      "Epoch 43/50\n",
      "431/431 [==============================] - 46s 107ms/step - loss: 9.0082 - val_loss: 32.2520\n",
      "Epoch 44/50\n",
      "431/431 [==============================] - 46s 107ms/step - loss: 9.1312 - val_loss: 31.8709\n",
      "Epoch 45/50\n",
      "431/431 [==============================] - 46s 107ms/step - loss: 8.4937 - val_loss: 32.6107\n",
      "Epoch 46/50\n",
      "431/431 [==============================] - 46s 108ms/step - loss: 8.3714 - val_loss: 32.3343\n",
      "Epoch 47/50\n",
      "431/431 [==============================] - 46s 107ms/step - loss: 8.9470 - val_loss: 31.5853\n",
      "Epoch 48/50\n",
      "431/431 [==============================] - 47s 109ms/step - loss: 8.3018 - val_loss: 31.6453\n",
      "Epoch 49/50\n",
      "431/431 [==============================] - 46s 107ms/step - loss: 8.7119 - val_loss: 32.8602\n",
      "Epoch 50/50\n",
      "431/431 [==============================] - 46s 108ms/step - loss: 8.2436 - val_loss: 31.3256\n",
      "Best epoch: 30\n"
     ]
    }
   ],
   "source": [
    "# Build the model with the optimal hyperparameters and train it on the data for 50 epochs\n",
    "model = tuner.hypermodel.build(best_hps)\n",
    "history = model.fit(x_train_reshaped, y_train, epochs=50, validation_data=(x_val_reshaped, y_val))\n",
    "\n",
    "val_loss_per_epoch = history.history['val_loss']\n",
    "best_epoch = val_loss_per_epoch.index(min(val_loss_per_epoch)) + 1\n",
    "print('Best epoch: %d' % (best_epoch,))"
   ]
  },
  {
   "cell_type": "code",
   "execution_count": 32,
   "metadata": {},
   "outputs": [
    {
     "name": "stdout",
     "output_type": "stream",
     "text": [
      "Epoch 1/30\n",
      "431/431 [==============================] - 46s 105ms/step - loss: 360.4100 - val_loss: 48.8972\n",
      "Epoch 2/30\n",
      "431/431 [==============================] - 45s 105ms/step - loss: 47.7383 - val_loss: 41.6276\n",
      "Epoch 3/30\n",
      "431/431 [==============================] - 45s 105ms/step - loss: 39.5293 - val_loss: 38.0034\n",
      "Epoch 4/30\n",
      "431/431 [==============================] - 45s 105ms/step - loss: 39.0736 - val_loss: 37.4708\n",
      "Epoch 5/30\n",
      "431/431 [==============================] - 45s 105ms/step - loss: 32.6145 - val_loss: 35.0489\n",
      "Epoch 6/30\n",
      "431/431 [==============================] - 45s 105ms/step - loss: 28.4442 - val_loss: 36.8135\n",
      "Epoch 7/30\n",
      "431/431 [==============================] - 45s 105ms/step - loss: 27.0845 - val_loss: 30.8683\n",
      "Epoch 8/30\n",
      "431/431 [==============================] - 45s 105ms/step - loss: 25.1875 - val_loss: 33.7830\n",
      "Epoch 9/30\n",
      "431/431 [==============================] - 45s 104ms/step - loss: 23.9681 - val_loss: 45.7573\n",
      "Epoch 10/30\n",
      "431/431 [==============================] - 45s 104ms/step - loss: 23.9379 - val_loss: 36.0902\n",
      "Epoch 11/30\n",
      "431/431 [==============================] - 45s 104ms/step - loss: 22.2396 - val_loss: 33.6491\n",
      "Epoch 12/30\n",
      "431/431 [==============================] - 45s 104ms/step - loss: 21.5953 - val_loss: 32.1774\n",
      "Epoch 13/30\n",
      "431/431 [==============================] - 45s 105ms/step - loss: 20.3127 - val_loss: 34.7436\n",
      "Epoch 14/30\n",
      "431/431 [==============================] - 45s 105ms/step - loss: 18.3071 - val_loss: 29.0922\n",
      "Epoch 15/30\n",
      "431/431 [==============================] - 45s 105ms/step - loss: 18.2733 - val_loss: 30.3062\n",
      "Epoch 16/30\n",
      "431/431 [==============================] - 46s 107ms/step - loss: 17.6219 - val_loss: 32.7440\n",
      "Epoch 17/30\n",
      "431/431 [==============================] - 45s 106ms/step - loss: 17.2873 - val_loss: 31.3936\n",
      "Epoch 18/30\n",
      "431/431 [==============================] - 45s 105ms/step - loss: 16.6651 - val_loss: 31.1996\n",
      "Epoch 19/30\n",
      "431/431 [==============================] - 46s 106ms/step - loss: 15.0866 - val_loss: 34.2237\n",
      "Epoch 20/30\n",
      "431/431 [==============================] - 45s 105ms/step - loss: 15.5452 - val_loss: 32.2797\n",
      "Epoch 21/30\n",
      "431/431 [==============================] - 46s 107ms/step - loss: 14.3853 - val_loss: 31.2657\n",
      "Epoch 22/30\n",
      "431/431 [==============================] - 45s 105ms/step - loss: 13.8138 - val_loss: 32.0918\n",
      "Epoch 23/30\n",
      "431/431 [==============================] - 45s 105ms/step - loss: 14.3505 - val_loss: 32.2442\n",
      "Epoch 24/30\n",
      "431/431 [==============================] - 46s 108ms/step - loss: 12.5992 - val_loss: 39.7234\n",
      "Epoch 25/30\n",
      "431/431 [==============================] - 46s 106ms/step - loss: 12.8968 - val_loss: 29.8571\n",
      "Epoch 26/30\n",
      "431/431 [==============================] - 46s 106ms/step - loss: 13.2911 - val_loss: 30.3140\n",
      "Epoch 27/30\n",
      "431/431 [==============================] - 45s 105ms/step - loss: 11.6240 - val_loss: 28.7557\n",
      "Epoch 28/30\n",
      "431/431 [==============================] - 45s 105ms/step - loss: 12.0544 - val_loss: 29.7979\n",
      "Epoch 29/30\n",
      "431/431 [==============================] - 46s 107ms/step - loss: 11.5947 - val_loss: 29.2273\n",
      "Epoch 30/30\n",
      "431/431 [==============================] - 45s 106ms/step - loss: 11.2724 - val_loss: 30.0414\n"
     ]
    },
    {
     "data": {
      "text/plain": [
       "<tensorflow.python.keras.callbacks.History at 0x1317ac6ea90>"
      ]
     },
     "execution_count": 32,
     "metadata": {},
     "output_type": "execute_result"
    }
   ],
   "source": [
    "tuned_cnn_model = tuner.hypermodel.build(best_hps)\n",
    "\n",
    "# Retrain the model\n",
    "tuned_cnn_model.fit(x_train_reshaped, y_train, epochs=best_epoch, validation_data=(x_val_reshaped, y_val))"
   ]
  },
  {
   "cell_type": "code",
   "execution_count": 33,
   "metadata": {},
   "outputs": [
    {
     "name": "stdout",
     "output_type": "stream",
     "text": [
      "Model: \"sequential_5\"\n",
      "_________________________________________________________________\n",
      "Layer (type)                 Output Shape              Param #   \n",
      "=================================================================\n",
      "conv2d_4 (Conv2D)            (None, 30, 30, 256)       20992     \n",
      "_________________________________________________________________\n",
      "max_pooling2d_4 (MaxPooling2 (None, 15, 15, 256)       0         \n",
      "_________________________________________________________________\n",
      "conv2d_5 (Conv2D)            (None, 13, 13, 64)        147520    \n",
      "_________________________________________________________________\n",
      "max_pooling2d_5 (MaxPooling2 (None, 6, 6, 64)          0         \n",
      "_________________________________________________________________\n",
      "flatten_5 (Flatten)          (None, 2304)              0         \n",
      "_________________________________________________________________\n",
      "dense_13 (Dense)             (None, 32)                73760     \n",
      "_________________________________________________________________\n",
      "dense_14 (Dense)             (None, 1)                 33        \n",
      "=================================================================\n",
      "Total params: 242,305\n",
      "Trainable params: 242,305\n",
      "Non-trainable params: 0\n",
      "_________________________________________________________________\n"
     ]
    }
   ],
   "source": [
    "tuned_cnn_model.summary()"
   ]
  },
  {
   "cell_type": "code",
   "execution_count": 34,
   "metadata": {},
   "outputs": [
    {
     "data": {
      "text/plain": [
       "array([[41.317554],\n",
       "       [34.113087],\n",
       "       [46.94695 ],\n",
       "       ...,\n",
       "       [56.034313],\n",
       "       [56.792316],\n",
       "       [33.229683]], dtype=float32)"
      ]
     },
     "execution_count": 34,
     "metadata": {},
     "output_type": "execute_result"
    }
   ],
   "source": [
    "predictions_val  = tuned_cnn_model.predict(x_val_reshaped)\n",
    "predictions_val"
   ]
  },
  {
   "cell_type": "markdown",
   "metadata": {},
   "source": [
    "# Evaluating the CNN model on validation data"
   ]
  },
  {
   "cell_type": "code",
   "execution_count": 35,
   "metadata": {},
   "outputs": [
    {
     "name": "stdout",
     "output_type": "stream",
     "text": [
      "MSE: 30.041, RMSE: 5.481\n"
     ]
    }
   ],
   "source": [
    "error = tuned_cnn_model.evaluate(x_val_reshaped, y_val, verbose=0)\n",
    "print('MSE: %.3f, RMSE: %.3f' % (error, sqrt(error)))"
   ]
  },
  {
   "cell_type": "code",
   "execution_count": 36,
   "metadata": {},
   "outputs": [
    {
     "data": {
      "text/plain": [
       "0.7244602606393471"
      ]
     },
     "execution_count": 36,
     "metadata": {},
     "output_type": "execute_result"
    }
   ],
   "source": [
    "# r2 score for cnn model\n",
    "r2_score(predictions_val, y_val)"
   ]
  },
  {
   "cell_type": "code",
   "execution_count": 37,
   "metadata": {
    "id": "3R-rdF9XnAdG"
   },
   "outputs": [],
   "source": [
    "# initial_learning_rate = 0.01\n",
    "# lr_schedule = optimizers.schedules.ExponentialDecay(\n",
    "#     initial_learning_rate,\n",
    "#     decay_steps=100000,\n",
    "#     decay_rate=0.96,\n",
    "#     staircase=True)"
   ]
  },
  {
   "cell_type": "code",
   "execution_count": 38,
   "metadata": {
    "id": "CtcW0KnwqApH"
   },
   "outputs": [],
   "source": [
    "# define loss and optimizer\n",
    "# cnn_model.compile(optimizer=optimizers.Adam(learning_rate=lr_schedule), loss='mse')"
   ]
  },
  {
   "cell_type": "code",
   "execution_count": 39,
   "metadata": {
    "colab": {
     "base_uri": "https://localhost:8080/",
     "height": 592
    },
    "id": "EgZC5ZMItVcg",
    "outputId": "bc7db9a9-81b2-4a64-f2d8-ca825661af40"
   },
   "outputs": [
    {
     "data": {
      "image/png": "[encoded data removed]",
      "text/plain": [
       "<Figure size 720x720 with 1 Axes>"
      ]
     },
     "metadata": {
      "needs_background": "light"
     },
     "output_type": "display_data"
    }
   ],
   "source": [
    "fig = plt.figure(figsize=(10, 10))\n",
    "x_ax = range(len(predictions_val[:250]))\n",
    "plt.scatter(x_ax, y_val[:250], s=5, color=\"blue\", label=\"original\")\n",
    "plt.plot(x_ax, predictions_val[:250], lw=0.8, color=\"red\", label=\"predicted\")\n",
    "plt.legend()\n",
    "plt.show()"
   ]
  },
  {
   "cell_type": "markdown",
   "metadata": {
    "id": "5ijk5Uaf6xAy"
   },
   "source": [
    "# C) Cross Validation: K-Fold"
   ]
  },
  {
   "cell_type": "code",
   "execution_count": 40,
   "metadata": {
    "id": "UYqyy5_tf1ZU"
   },
   "outputs": [],
   "source": [
    "# splitting the data again for k-fold \n",
    "# X_test and y_test will be kept aside for final evaluation\n",
    "X_main, X_test, y_main, y_test = train_test_split(X, y, test_size = 0.2)"
   ]
  },
  {
   "cell_type": "code",
   "execution_count": 41,
   "metadata": {},
   "outputs": [],
   "source": [
    "# Channels go last for TensorFlow backend\n",
    "X_main_reshaped = X_main.reshape(X_main.shape[0], 32, 32, 9)"
   ]
  },
  {
   "cell_type": "markdown",
   "metadata": {},
   "source": [
    "### MLP with K-fold"
   ]
  },
  {
   "cell_type": "code",
   "execution_count": 42,
   "metadata": {
    "id": "yTysae6_j43Q"
   },
   "outputs": [
    {
     "name": "stdout",
     "output_type": "stream",
     "text": [
      "Epoch 1/20\n",
      "460/460 [==============================] - 10s 21ms/step - loss: 23.9712\n",
      "Epoch 2/20\n",
      "460/460 [==============================] - 10s 21ms/step - loss: 20.0587\n",
      "Epoch 3/20\n",
      "460/460 [==============================] - 10s 21ms/step - loss: 18.6782\n",
      "Epoch 4/20\n",
      "460/460 [==============================] - 10s 21ms/step - loss: 17.1700\n",
      "Epoch 5/20\n",
      "460/460 [==============================] - 10s 21ms/step - loss: 16.1900\n",
      "Epoch 6/20\n",
      "460/460 [==============================] - 10s 21ms/step - loss: 15.6856\n",
      "Epoch 7/20\n",
      "460/460 [==============================] - 10s 21ms/step - loss: 15.3743\n",
      "Epoch 8/20\n",
      "460/460 [==============================] - 10s 21ms/step - loss: 14.5159\n",
      "Epoch 9/20\n",
      "460/460 [==============================] - 10s 21ms/step - loss: 13.9147\n",
      "Epoch 10/20\n",
      "460/460 [==============================] - 10s 22ms/step - loss: 13.5854\n",
      "Epoch 11/20\n",
      "460/460 [==============================] - 10s 22ms/step - loss: 13.5660\n",
      "Epoch 12/20\n",
      "460/460 [==============================] - 10s 21ms/step - loss: 12.5375\n",
      "Epoch 13/20\n",
      "460/460 [==============================] - 10s 21ms/step - loss: 12.2604\n",
      "Epoch 14/20\n",
      "460/460 [==============================] - 10s 21ms/step - loss: 11.4289\n",
      "Epoch 15/20\n",
      "460/460 [==============================] - 10s 21ms/step - loss: 11.5151\n",
      "Epoch 16/20\n",
      "460/460 [==============================] - 10s 22ms/step - loss: 10.9519\n",
      "Epoch 17/20\n",
      "460/460 [==============================] - 10s 21ms/step - loss: 10.4136\n",
      "Epoch 18/20\n",
      "460/460 [==============================] - 10s 21ms/step - loss: 10.3801\n",
      "Epoch 19/20\n",
      "460/460 [==============================] - 10s 21ms/step - loss: 10.4520\n",
      "Epoch 20/20\n",
      "460/460 [==============================] - 10s 21ms/step - loss: 9.9269\n",
      "Score for fold 1: ['loss'] of 26.824838638305664\n",
      "Epoch 1/20\n",
      "460/460 [==============================] - 10s 21ms/step - loss: 15.5889\n",
      "Epoch 2/20\n",
      "460/460 [==============================] - 10s 21ms/step - loss: 13.5028\n",
      "Epoch 3/20\n",
      "460/460 [==============================] - 10s 21ms/step - loss: 11.8603\n",
      "Epoch 4/20\n",
      "460/460 [==============================] - 10s 21ms/step - loss: 11.1202\n",
      "Epoch 5/20\n",
      "460/460 [==============================] - 10s 21ms/step - loss: 10.5196\n",
      "Epoch 6/20\n",
      "460/460 [==============================] - 10s 21ms/step - loss: 10.4920\n",
      "Epoch 7/20\n",
      "460/460 [==============================] - 10s 21ms/step - loss: 10.1073\n",
      "Epoch 8/20\n",
      "460/460 [==============================] - 10s 21ms/step - loss: 9.5520\n",
      "Epoch 9/20\n",
      "460/460 [==============================] - 10s 21ms/step - loss: 9.3033\n",
      "Epoch 10/20\n",
      "460/460 [==============================] - 10s 21ms/step - loss: 8.7505\n",
      "Epoch 11/20\n",
      "460/460 [==============================] - 10s 21ms/step - loss: 8.5699\n",
      "Epoch 12/20\n",
      "460/460 [==============================] - 10s 22ms/step - loss: 8.5512 0s - loss: 8.59 - ETA: 0s \n",
      "Epoch 13/20\n",
      "460/460 [==============================] - 10s 21ms/step - loss: 8.2159\n",
      "Epoch 14/20\n",
      "460/460 [==============================] - 10s 21ms/step - loss: 8.1718\n",
      "Epoch 15/20\n",
      "460/460 [==============================] - 10s 21ms/step - loss: 7.9992\n",
      "Epoch 16/20\n",
      "460/460 [==============================] - 10s 21ms/step - loss: 7.8595\n",
      "Epoch 17/20\n",
      "460/460 [==============================] - 10s 21ms/step - loss: 7.1541\n",
      "Epoch 18/20\n",
      "460/460 [==============================] - 10s 21ms/step - loss: 6.9821\n",
      "Epoch 19/20\n",
      "460/460 [==============================] - 10s 22ms/step - loss: 7.2742\n",
      "Epoch 20/20\n",
      "460/460 [==============================] - 10s 21ms/step - loss: 7.1298\n",
      "Score for fold 2: ['loss'] of 16.291236877441406\n",
      "Epoch 1/20\n",
      "460/460 [==============================] - 10s 21ms/step - loss: 10.0863\n",
      "Epoch 2/20\n",
      "460/460 [==============================] - 10s 21ms/step - loss: 8.7970\n",
      "Epoch 3/20\n",
      "460/460 [==============================] - 10s 21ms/step - loss: 8.3293\n",
      "Epoch 4/20\n",
      "460/460 [==============================] - 10s 21ms/step - loss: 8.1408\n",
      "Epoch 5/20\n",
      "460/460 [==============================] - 10s 21ms/step - loss: 7.9963\n",
      "Epoch 6/20\n",
      "460/460 [==============================] - 10s 21ms/step - loss: 7.4972\n",
      "Epoch 7/20\n",
      "460/460 [==============================] - 10s 21ms/step - loss: 7.5183\n",
      "Epoch 8/20\n",
      "460/460 [==============================] - 10s 21ms/step - loss: 6.9544\n",
      "Epoch 9/20\n",
      "460/460 [==============================] - 10s 21ms/step - loss: 6.8568\n",
      "Epoch 10/20\n",
      "460/460 [==============================] - 10s 21ms/step - loss: 6.8602 0s - loss\n",
      "Epoch 11/20\n",
      "460/460 [==============================] - 10s 21ms/step - loss: 6.8928\n",
      "Epoch 12/20\n",
      "460/460 [==============================] - 10s 21ms/step - loss: 6.4496\n",
      "Epoch 13/20\n",
      "460/460 [==============================] - 10s 21ms/step - loss: 6.2930 0s - loss: 6.\n",
      "Epoch 14/20\n",
      "460/460 [==============================] - 10s 22ms/step - loss: 6.4958\n",
      "Epoch 15/20\n",
      "460/460 [==============================] - 10s 21ms/step - loss: 6.5034\n",
      "Epoch 16/20\n",
      "460/460 [==============================] - 10s 21ms/step - loss: 5.9218\n",
      "Epoch 17/20\n",
      "460/460 [==============================] - 10s 21ms/step - loss: 6.1396\n",
      "Epoch 18/20\n",
      "460/460 [==============================] - 10s 21ms/step - loss: 6.2654\n",
      "Epoch 19/20\n",
      "460/460 [==============================] - 10s 21ms/step - loss: 5.9032\n",
      "Epoch 20/20\n",
      "460/460 [==============================] - 10s 21ms/step - loss: 5.6746\n",
      "Score for fold 3: ['loss'] of 9.908976554870605\n",
      "Epoch 1/20\n",
      "460/460 [==============================] - 10s 21ms/step - loss: 7.2193\n",
      "Epoch 2/20\n",
      "460/460 [==============================] - 10s 21ms/step - loss: 6.8719\n",
      "Epoch 3/20\n",
      "460/460 [==============================] - 10s 21ms/step - loss: 6.8056\n",
      "Epoch 4/20\n",
      "460/460 [==============================] - 10s 22ms/step - loss: 6.8530\n",
      "Epoch 5/20\n",
      "460/460 [==============================] - 10s 21ms/step - loss: 6.0096\n",
      "Epoch 6/20\n",
      "460/460 [==============================] - 10s 21ms/step - loss: 5.8526\n",
      "Epoch 7/20\n",
      "460/460 [==============================] - 10s 21ms/step - loss: 5.8280\n",
      "Epoch 8/20\n",
      "460/460 [==============================] - 10s 21ms/step - loss: 5.9219\n",
      "Epoch 9/20\n",
      "460/460 [==============================] - 10s 21ms/step - loss: 5.8193\n",
      "Epoch 10/20\n",
      "460/460 [==============================] - 10s 22ms/step - loss: 5.6965\n",
      "Epoch 11/20\n",
      "460/460 [==============================] - 10s 21ms/step - loss: 5.7690\n",
      "Epoch 12/20\n",
      "460/460 [==============================] - 10s 22ms/step - loss: 5.4912\n",
      "Epoch 13/20\n",
      "460/460 [==============================] - 10s 22ms/step - loss: 5.3734\n",
      "Epoch 14/20\n",
      "460/460 [==============================] - 10s 21ms/step - loss: 5.2301\n",
      "Epoch 15/20\n",
      "460/460 [==============================] - 10s 21ms/step - loss: 5.0670\n",
      "Epoch 16/20\n",
      "460/460 [==============================] - 10s 21ms/step - loss: 5.5687\n",
      "Epoch 17/20\n",
      "460/460 [==============================] - 10s 21ms/step - loss: 5.1529\n",
      "Epoch 18/20\n",
      "460/460 [==============================] - 10s 21ms/step - loss: 5.1025\n",
      "Epoch 19/20\n",
      "460/460 [==============================] - 10s 21ms/step - loss: 4.5810\n",
      "Epoch 20/20\n",
      "460/460 [==============================] - 10s 21ms/step - loss: 4.7498\n",
      "Score for fold 4: ['loss'] of 7.965734958648682\n",
      "Epoch 1/20\n",
      "460/460 [==============================] - 10s 21ms/step - loss: 6.1439\n",
      "Epoch 2/20\n",
      "460/460 [==============================] - 10s 21ms/step - loss: 5.6240\n",
      "Epoch 3/20\n",
      "460/460 [==============================] - 10s 21ms/step - loss: 5.5200\n",
      "Epoch 4/20\n",
      "460/460 [==============================] - 10s 21ms/step - loss: 4.9197\n",
      "Epoch 5/20\n",
      "460/460 [==============================] - 10s 21ms/step - loss: 4.8510\n",
      "Epoch 6/20\n",
      "460/460 [==============================] - 10s 21ms/step - loss: 5.0330\n",
      "Epoch 7/20\n",
      "460/460 [==============================] - 10s 21ms/step - loss: 4.8732\n",
      "Epoch 8/20\n",
      "460/460 [==============================] - 10s 21ms/step - loss: 4.7831\n",
      "Epoch 9/20\n",
      "460/460 [==============================] - 10s 21ms/step - loss: 4.5725\n",
      "Epoch 10/20\n",
      "460/460 [==============================] - 10s 21ms/step - loss: 4.5977\n",
      "Epoch 11/20\n",
      "460/460 [==============================] - 10s 21ms/step - loss: 4.3408\n",
      "Epoch 12/20\n",
      "460/460 [==============================] - 10s 21ms/step - loss: 4.7266\n",
      "Epoch 13/20\n",
      "460/460 [==============================] - 10s 21ms/step - loss: 4.2543\n",
      "Epoch 14/20\n",
      "460/460 [==============================] - 10s 21ms/step - loss: 4.4024 0s - loss\n",
      "Epoch 15/20\n",
      "460/460 [==============================] - 10s 21ms/step - loss: 4.0442\n",
      "Epoch 16/20\n",
      "460/460 [==============================] - 10s 21ms/step - loss: 4.3181 1s - ETA: \n",
      "Epoch 17/20\n",
      "460/460 [==============================] - 10s 21ms/step - loss: 4.2047\n",
      "Epoch 18/20\n",
      "460/460 [==============================] - 10s 21ms/step - loss: 4.2150\n",
      "Epoch 19/20\n",
      "460/460 [==============================] - 10s 21ms/step - loss: 4.1018\n",
      "Epoch 20/20\n",
      "460/460 [==============================] - 10s 21ms/step - loss: 4.0257\n",
      "Score for fold 5: ['loss'] of 5.987198829650879\n"
     ]
    }
   ],
   "source": [
    "from sklearn.model_selection import KFold\n",
    "# code referenced from [4] (scikit-learn, 2021)\n",
    "n_split=5\n",
    "# Define per-fold score containers\n",
    "loss_per_fold = []\n",
    "# k-fold cross validation model\n",
    "fold_no = 1\n",
    "for train_index,val_index in KFold(n_split).split(X_main_reshaped):\n",
    "    x_train,x_val=X_main_reshaped[train_index],X_main_reshaped[val_index]\n",
    "    y_train,y_val=y_main[train_index],y_main[val_index]\n",
    "   \n",
    "    #clear \n",
    "    tf.keras.backend.clear_session()\n",
    "    tf.compat.v1.reset_default_graph()\n",
    "    # fit data to model\n",
    "    history = tuned_mlp_model.fit(x_train, y_train,epochs=20)\n",
    "    # evalutate metrics\n",
    "    scores = tuned_mlp_model.evaluate(x_val, y_val, verbose=0)\n",
    "    print(f'Score for fold {fold_no}: {tuned_mlp_model.metrics_names} of {scores}')\n",
    "    loss_per_fold.append(scores)\n",
    "    # increase fold number\n",
    "    fold_no = fold_no +1"
   ]
  },
  {
   "cell_type": "code",
   "execution_count": 43,
   "metadata": {},
   "outputs": [
    {
     "name": "stdout",
     "output_type": "stream",
     "text": [
      "-----------------------------------------------------------------\n",
      "Score per fold\n",
      "-------------------------------------------------------------\n",
      "> Fold 1 - Loss: 26.824838638305664\n",
      "-------------------------------------------------------------\n",
      "> Fold 2 - Loss: 16.291236877441406\n",
      "-------------------------------------------------------------\n",
      "> Fold 3 - Loss: 9.908976554870605\n",
      "-------------------------------------------------------------\n",
      "> Fold 4 - Loss: 7.965734958648682\n",
      "-------------------------------------------------------------\n",
      "> Fold 5 - Loss: 5.987198829650879\n",
      "-------------------------------------------------------------\n",
      "Average scores for all folds:\n",
      "> Loss: 13.395597171783447\n",
      "-------------------------------------------------------------\n"
     ]
    }
   ],
   "source": [
    "# == Provide average scores ==\n",
    "print('-----------------------------------------------------------------')\n",
    "print('Score per fold')\n",
    "for i in range(0, len(loss_per_fold)):\n",
    "    print('-------------------------------------------------------------')\n",
    "    print(f'> Fold {i+1} - Loss: {loss_per_fold[i]}')\n",
    "print('-------------------------------------------------------------')\n",
    "print('Average scores for all folds:')\n",
    "print(f'> Loss: {np.mean(loss_per_fold)}')\n",
    "print('-------------------------------------------------------------')"
   ]
  },
  {
   "cell_type": "code",
   "execution_count": 44,
   "metadata": {},
   "outputs": [
    {
     "data": {
      "image/png": "[encoded data removed]",
      "text/plain": [
       "<Figure size 432x288 with 1 Axes>"
      ]
     },
     "metadata": {
      "needs_background": "light"
     },
     "output_type": "display_data"
    }
   ],
   "source": [
    "fig = plt.figure()\n",
    "ax = fig.add_axes([0,0,1,1])\n",
    "ax.bar([1, 2, 3, 4, 5],loss_per_fold)\n",
    "plt.show()"
   ]
  },
  {
   "cell_type": "markdown",
   "metadata": {},
   "source": [
    "### CNN with K-fold"
   ]
  },
  {
   "cell_type": "code",
   "execution_count": 45,
   "metadata": {
    "colab": {
     "base_uri": "https://localhost:8080/"
    },
    "id": "bjZh9v1D19Ns",
    "outputId": "f2e35c62-c797-4ed5-d0eb-4ace2062ba0b"
   },
   "outputs": [
    {
     "name": "stdout",
     "output_type": "stream",
     "text": [
      "Epoch 1/20\n",
      "460/460 [==============================] - 46s 100ms/step - loss: 21.7932\n",
      "Epoch 2/20\n",
      "460/460 [==============================] - 46s 99ms/step - loss: 18.5699\n",
      "Epoch 3/20\n",
      "460/460 [==============================] - 46s 99ms/step - loss: 16.6221\n",
      "Epoch 4/20\n",
      "460/460 [==============================] - 46s 99ms/step - loss: 15.4752\n",
      "Epoch 5/20\n",
      "460/460 [==============================] - 46s 99ms/step - loss: 14.4405\n",
      "Epoch 6/20\n",
      "460/460 [==============================] - 46s 99ms/step - loss: 14.0049\n",
      "Epoch 7/20\n",
      "460/460 [==============================] - 47s 101ms/step - loss: 13.4371\n",
      "Epoch 8/20\n",
      "460/460 [==============================] - 47s 103ms/step - loss: 12.9852\n",
      "Epoch 9/20\n",
      "460/460 [==============================] - 46s 100ms/step - loss: 12.6144\n",
      "Epoch 10/20\n",
      "460/460 [==============================] - 46s 99ms/step - loss: 11.9894\n",
      "Epoch 11/20\n",
      "460/460 [==============================] - 46s 100ms/step - loss: 11.5965\n",
      "Epoch 12/20\n",
      "460/460 [==============================] - 46s 99ms/step - loss: 11.3265\n",
      "Epoch 13/20\n",
      "460/460 [==============================] - 47s 102ms/step - loss: 11.0115\n",
      "Epoch 14/20\n",
      "460/460 [==============================] - 46s 100ms/step - loss: 10.1376\n",
      "Epoch 15/20\n",
      "460/460 [==============================] - 46s 100ms/step - loss: 10.3171\n",
      "Epoch 16/20\n",
      "460/460 [==============================] - 46s 100ms/step - loss: 9.9626\n",
      "Epoch 17/20\n",
      "460/460 [==============================] - 46s 100ms/step - loss: 9.6003\n",
      "Epoch 18/20\n",
      "460/460 [==============================] - 46s 100ms/step - loss: 9.7737\n",
      "Epoch 19/20\n",
      "460/460 [==============================] - 46s 101ms/step - loss: 9.2138\n",
      "Epoch 20/20\n",
      "460/460 [==============================] - 46s 101ms/step - loss: 9.2580\n",
      "Score for fold 1: ['loss'] of 24.586746215820312\n",
      "Epoch 1/20\n",
      "460/460 [==============================] - 46s 100ms/step - loss: 14.9229\n",
      "Epoch 2/20\n",
      "460/460 [==============================] - 46s 100ms/step - loss: 12.9074\n",
      "Epoch 3/20\n",
      "460/460 [==============================] - 46s 99ms/step - loss: 12.3057\n",
      "Epoch 4/20\n",
      "460/460 [==============================] - 46s 100ms/step - loss: 11.2741\n",
      "Epoch 5/20\n",
      "460/460 [==============================] - 46s 101ms/step - loss: 10.2482\n",
      "Epoch 6/20\n",
      "460/460 [==============================] - 48s 105ms/step - loss: 9.6780\n",
      "Epoch 7/20\n",
      "460/460 [==============================] - 48s 105ms/step - loss: 9.1392\n",
      "Epoch 8/20\n",
      "460/460 [==============================] - 45s 98ms/step - loss: 8.9162\n",
      "Epoch 9/20\n",
      "460/460 [==============================] - 46s 100ms/step - loss: 8.8152\n",
      "Epoch 10/20\n",
      "460/460 [==============================] - 45s 98ms/step - loss: 8.5034\n",
      "Epoch 11/20\n",
      "460/460 [==============================] - 44s 96ms/step - loss: 8.1008\n",
      "Epoch 12/20\n",
      "460/460 [==============================] - 44s 96ms/step - loss: 8.4333\n",
      "Epoch 13/20\n",
      "460/460 [==============================] - 46s 100ms/step - loss: 8.0161\n",
      "Epoch 14/20\n",
      "460/460 [==============================] - 50s 108ms/step - loss: 7.6919\n",
      "Epoch 15/20\n",
      "460/460 [==============================] - 47s 103ms/step - loss: 7.9229\n",
      "Epoch 16/20\n",
      "460/460 [==============================] - 46s 99ms/step - loss: 7.7671\n",
      "Epoch 17/20\n",
      "460/460 [==============================] - 46s 101ms/step - loss: 7.3966\n",
      "Epoch 18/20\n",
      "460/460 [==============================] - 45s 98ms/step - loss: 6.8533\n",
      "Epoch 19/20\n",
      "460/460 [==============================] - 46s 101ms/step - loss: 6.7490\n",
      "Epoch 20/20\n",
      "460/460 [==============================] - 46s 100ms/step - loss: 6.4237\n",
      "Score for fold 2: ['loss'] of 16.2941951751709\n",
      "Epoch 1/20\n",
      "460/460 [==============================] - 45s 97ms/step - loss: 10.6033\n",
      "Epoch 2/20\n",
      "460/460 [==============================] - 47s 102ms/step - loss: 9.2381\n",
      "Epoch 3/20\n",
      "460/460 [==============================] - 46s 100ms/step - loss: 8.1585\n",
      "Epoch 4/20\n",
      "460/460 [==============================] - 48s 104ms/step - loss: 7.7265\n",
      "Epoch 5/20\n",
      "460/460 [==============================] - 51s 110ms/step - loss: 7.4140\n",
      "Epoch 6/20\n",
      "460/460 [==============================] - 48s 104ms/step - loss: 7.0576\n",
      "Epoch 7/20\n",
      "460/460 [==============================] - 49s 107ms/step - loss: 6.8710\n",
      "Epoch 8/20\n",
      "460/460 [==============================] - 49s 107ms/step - loss: 6.7570\n",
      "Epoch 9/20\n",
      "460/460 [==============================] - 46s 99ms/step - loss: 7.1567\n",
      "Epoch 10/20\n",
      "460/460 [==============================] - 46s 101ms/step - loss: 6.5486\n",
      "Epoch 11/20\n",
      "460/460 [==============================] - 46s 99ms/step - loss: 6.3415\n",
      "Epoch 12/20\n",
      "460/460 [==============================] - 46s 100ms/step - loss: 6.3575\n",
      "Epoch 13/20\n",
      "460/460 [==============================] - 45s 99ms/step - loss: 6.4078\n",
      "Epoch 14/20\n",
      "460/460 [==============================] - 45s 98ms/step - loss: 5.9831\n",
      "Epoch 15/20\n",
      "460/460 [==============================] - 46s 100ms/step - loss: 5.7000\n",
      "Epoch 16/20\n",
      "460/460 [==============================] - 46s 100ms/step - loss: 6.0563\n",
      "Epoch 17/20\n",
      "460/460 [==============================] - 46s 100ms/step - loss: 5.5970\n",
      "Epoch 18/20\n",
      "460/460 [==============================] - 46s 100ms/step - loss: 5.7935\n",
      "Epoch 19/20\n",
      "460/460 [==============================] - 46s 100ms/step - loss: 5.2330\n",
      "Epoch 20/20\n",
      "460/460 [==============================] - 46s 99ms/step - loss: 5.3855\n",
      "Score for fold 3: ['loss'] of 12.600712776184082\n",
      "Epoch 1/20\n",
      "460/460 [==============================] - 46s 99ms/step - loss: 9.1291\n",
      "Epoch 2/20\n",
      "460/460 [==============================] - 46s 99ms/step - loss: 7.4018\n",
      "Epoch 3/20\n",
      "460/460 [==============================] - 46s 100ms/step - loss: 6.4708\n",
      "Epoch 4/20\n",
      "460/460 [==============================] - 47s 101ms/step - loss: 6.3281\n",
      "Epoch 5/20\n",
      "460/460 [==============================] - 46s 100ms/step - loss: 6.0758\n",
      "Epoch 6/20\n",
      "460/460 [==============================] - 46s 99ms/step - loss: 5.4532\n",
      "Epoch 7/20\n",
      "460/460 [==============================] - 46s 100ms/step - loss: 5.9718\n",
      "Epoch 8/20\n",
      "460/460 [==============================] - 46s 101ms/step - loss: 5.4836\n",
      "Epoch 9/20\n",
      "460/460 [==============================] - 47s 102ms/step - loss: 5.5796\n",
      "Epoch 10/20\n",
      "460/460 [==============================] - 46s 100ms/step - loss: 5.4990\n",
      "Epoch 11/20\n",
      "460/460 [==============================] - 46s 100ms/step - loss: 5.7026\n",
      "Epoch 12/20\n",
      "460/460 [==============================] - 46s 101ms/step - loss: 5.3562\n",
      "Epoch 13/20\n",
      "460/460 [==============================] - 47s 102ms/step - loss: 4.9813\n",
      "Epoch 14/20\n",
      "460/460 [==============================] - 46s 100ms/step - loss: 4.8479\n",
      "Epoch 15/20\n",
      "460/460 [==============================] - 46s 100ms/step - loss: 5.1678\n",
      "Epoch 16/20\n",
      "460/460 [==============================] - 46s 100ms/step - loss: 5.0852\n",
      "Epoch 17/20\n",
      "460/460 [==============================] - 46s 100ms/step - loss: 5.3315\n",
      "Epoch 18/20\n",
      "460/460 [==============================] - 46s 100ms/step - loss: 4.6196\n",
      "Epoch 19/20\n",
      "460/460 [==============================] - 46s 100ms/step - loss: 4.6634\n",
      "Epoch 20/20\n",
      "460/460 [==============================] - 46s 100ms/step - loss: 4.6188\n",
      "Score for fold 4: ['loss'] of 9.61940860748291\n",
      "Epoch 1/20\n",
      "460/460 [==============================] - 46s 100ms/step - loss: 7.3263\n",
      "Epoch 2/20\n",
      "460/460 [==============================] - 46s 100ms/step - loss: 6.1070\n",
      "Epoch 3/20\n",
      "460/460 [==============================] - 46s 101ms/step - loss: 5.4890\n",
      "Epoch 4/20\n",
      "460/460 [==============================] - 46s 100ms/step - loss: 5.0061\n",
      "Epoch 5/20\n",
      "460/460 [==============================] - 46s 100ms/step - loss: 5.3430\n",
      "Epoch 6/20\n",
      "460/460 [==============================] - 46s 101ms/step - loss: 4.9164\n",
      "Epoch 7/20\n",
      "460/460 [==============================] - 46s 101ms/step - loss: 4.9469\n",
      "Epoch 8/20\n",
      "460/460 [==============================] - 46s 100ms/step - loss: 4.7527\n",
      "Epoch 9/20\n",
      "460/460 [==============================] - 46s 101ms/step - loss: 4.8323\n",
      "Epoch 10/20\n",
      "460/460 [==============================] - 46s 100ms/step - loss: 5.0126\n",
      "Epoch 11/20\n",
      "460/460 [==============================] - 46s 101ms/step - loss: 4.6967\n",
      "Epoch 12/20\n",
      "460/460 [==============================] - 46s 99ms/step - loss: 4.9024\n",
      "Epoch 13/20\n",
      "460/460 [==============================] - 46s 99ms/step - loss: 4.3066\n",
      "Epoch 14/20\n",
      "460/460 [==============================] - 46s 101ms/step - loss: 4.2420\n",
      "Epoch 15/20\n",
      "460/460 [==============================] - 45s 99ms/step - loss: 4.0780\n",
      "Epoch 16/20\n",
      "460/460 [==============================] - 45s 98ms/step - loss: 4.4728\n",
      "Epoch 17/20\n",
      "460/460 [==============================] - 45s 99ms/step - loss: 4.6361\n",
      "Epoch 18/20\n",
      "460/460 [==============================] - 46s 100ms/step - loss: 3.9905\n",
      "Epoch 19/20\n",
      "460/460 [==============================] - 46s 99ms/step - loss: 4.1620\n",
      "Epoch 20/20\n",
      "460/460 [==============================] - 45s 99ms/step - loss: 4.1567\n",
      "Score for fold 5: ['loss'] of 7.704930782318115\n"
     ]
    }
   ],
   "source": [
    "from sklearn.model_selection import KFold\n",
    "# code referenced from [4] (scikit-learn, 2021)\n",
    "n_split=5\n",
    "# Define per-fold score containers\n",
    "loss_per_fold = []\n",
    "# k-fold cross validation model\n",
    "fold_no = 1\n",
    "for train_index,val_index in KFold(n_split).split(X_main_reshaped):\n",
    "    x_train,x_val=X_main_reshaped[train_index],X_main_reshaped[val_index]\n",
    "    y_train,y_val=y_main[train_index],y_main[val_index]\n",
    "     #clear \n",
    "    tf.keras.backend.clear_session()\n",
    "    tf.compat.v1.reset_default_graph()\n",
    "    # fit data to model\n",
    "    history = tuned_cnn_model.fit(x_train, y_train,epochs=20)\n",
    "    # evalutate metrics\n",
    "    scores = tuned_cnn_model.evaluate(x_val, y_val, verbose=0)\n",
    "    print(f'Score for fold {fold_no}: {tuned_cnn_model.metrics_names} of {scores}')\n",
    "    loss_per_fold.append(scores)\n",
    "    # increase fold number\n",
    "    fold_no = fold_no +1"
   ]
  },
  {
   "cell_type": "code",
   "execution_count": 46,
   "metadata": {},
   "outputs": [
    {
     "name": "stdout",
     "output_type": "stream",
     "text": [
      "-----------------------------------------------------------------\n",
      "Score per fold\n",
      "-------------------------------------------------------------\n",
      "> Fold 1 - Loss: 24.586746215820312\n",
      "-------------------------------------------------------------\n",
      "> Fold 2 - Loss: 16.2941951751709\n",
      "-------------------------------------------------------------\n",
      "> Fold 3 - Loss: 12.600712776184082\n",
      "-------------------------------------------------------------\n",
      "> Fold 4 - Loss: 9.61940860748291\n",
      "-------------------------------------------------------------\n",
      "> Fold 5 - Loss: 7.704930782318115\n",
      "-------------------------------------------------------------\n",
      "Average scores for all folds:\n",
      "> Loss: 14.161198711395263\n",
      "-------------------------------------------------------------\n"
     ]
    }
   ],
   "source": [
    "# == Provide average scores ==\n",
    "print('-----------------------------------------------------------------')\n",
    "print('Score per fold')\n",
    "for i in range(0, len(loss_per_fold)):\n",
    "    print('-------------------------------------------------------------')\n",
    "    print(f'> Fold {i+1} - Loss: {loss_per_fold[i]}')\n",
    "print('-------------------------------------------------------------')\n",
    "print('Average scores for all folds:')\n",
    "print(f'> Loss: {np.mean(loss_per_fold)}')\n",
    "print('-------------------------------------------------------------')"
   ]
  },
  {
   "cell_type": "code",
   "execution_count": 47,
   "metadata": {},
   "outputs": [
    {
     "data": {
      "image/png": "[encoded data removed]",
      "text/plain": [
       "<Figure size 432x288 with 1 Axes>"
      ]
     },
     "metadata": {
      "needs_background": "light"
     },
     "output_type": "display_data"
    }
   ],
   "source": [
    "fig = plt.figure()\n",
    "ax = fig.add_axes([0,0,1,1])\n",
    "ax.bar([1, 2, 3, 4, 5],loss_per_fold)\n",
    "plt.show()"
   ]
  },
  {
   "cell_type": "markdown",
   "metadata": {},
   "source": [
    "# Predicting over test data"
   ]
  },
  {
   "cell_type": "code",
   "execution_count": 48,
   "metadata": {},
   "outputs": [],
   "source": [
    "X_test_reshaped = X_test.reshape(X_test.shape[0], 32, 32, 9)"
   ]
  },
  {
   "cell_type": "code",
   "execution_count": 49,
   "metadata": {},
   "outputs": [],
   "source": [
    "#predicting on test data\n",
    "predictions_mlp_test  = tuned_mlp_model.predict(X_test_reshaped)\n",
    "predictions_cnn_test  = tuned_cnn_model.predict(X_test_reshaped)"
   ]
  },
  {
   "cell_type": "code",
   "execution_count": 50,
   "metadata": {},
   "outputs": [
    {
     "name": "stdout",
     "output_type": "stream",
     "text": [
      "MLP Results:\n",
      "MSE: 36.835, RMSE: 6.069\n",
      "0.6866333270049141\n",
      "CNN Results:\n",
      "MSE: 25.723, RMSE: 5.072\n",
      "0.7723077991805609\n"
     ]
    }
   ],
   "source": [
    "# evaluate the MLPmodel\n",
    "print(\"MLP Results:\")\n",
    "error = tuned_mlp_model.evaluate(X_test_reshaped, y_test, verbose=0)\n",
    "print('MSE: %.3f, RMSE: %.3f' % (error, sqrt(error)))\n",
    "print(r2_score(predictions_mlp_test, y_test))\n",
    "\n",
    "# evaluate the CNN model\n",
    "print(\"CNN Results:\")\n",
    "error = tuned_cnn_model.evaluate(X_test_reshaped, y_test, verbose=0)\n",
    "print('MSE: %.3f, RMSE: %.3f' % (error, sqrt(error)))\n",
    "print(r2_score(predictions_cnn_test, y_test))\n"
   ]
  },
  {
   "cell_type": "markdown",
   "metadata": {},
   "source": [
    "# References:\n",
    "\n",
    "[1] https://www.facebook.com/MachineLearningMastery (2019). TensorFlow 2 Tutorial: Get Started in Deep Learning With tf.keras. [online] Machine Learning Mastery. Available at: https://machinelearningmastery.com/tensorflow-tutorial-deep-learning-with-tf-keras/ [Accessed 3 Nov. 2021].\n",
    "\n",
    "[2]Introduction to the Keras Tuner (2018). Introduction to the Keras Tuner  |  TensorFlow Core. [online] TensorFlow. Available at: https://www.tensorflow.org/tutorials/keras/keras_tuner [Accessed 3 Nov. 2021].\n",
    "\n",
    "[3] Convolutional Neural Network (CNN (2021). Convolutional Neural Network (CNN)  |  TensorFlow Core. [online] TensorFlow. Available at: https://www.tensorflow.org/tutorials/images/cnn [Accessed 3 Nov. 2021].\n",
    "\n",
    "[4] scikit-learn. (2021). sklearn.model_selection.KFold. [online] Available at: https://scikit-learn.org/stable/modules/generated/sklearn.model_selection.KFold.html [Accessed 7 Nov. 2021].\n"
   ]
  },
  {
   "cell_type": "code",
   "execution_count": null,
   "metadata": {},
   "outputs": [],
   "source": []
  }
 ],
 "metadata": {
  "accelerator": "GPU",
  "colab": {
   "name": "Assessment_1_Task_2 .ipynb",
   "provenance": []
  },
  "kernelspec": {
   "display_name": "Python 3",
   "language": "python",
   "name": "python3"
  },
  "language_info": {
   "codemirror_mode": {
    "name": "ipython",
    "version": 3
   },
   "file_extension": ".py",
   "mimetype": "text/x-python",
   "name": "python",
   "nbconvert_exporter": "python",
   "pygments_lexer": "ipython3",
   "version": "3.8.5"
  }
 },
 "nbformat": 4,
 "nbformat_minor": 1
}
